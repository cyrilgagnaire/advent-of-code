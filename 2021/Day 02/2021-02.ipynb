{
 "cells": [
  {
   "cell_type": "code",
   "execution_count": 1,
   "metadata": {},
   "outputs": [],
   "source": [
    "import pandas as pd"
   ]
  },
  {
   "cell_type": "code",
   "execution_count": 2,
   "metadata": {},
   "outputs": [],
   "source": [
    "input_df = pd.read_csv(\n",
    "    r'C:\\git\\github\\cyrilgagnaire\\2020adventOfCode\\2021\\Day 02\\Part 1\\input.txt', header=None)"
   ]
  },
  {
   "cell_type": "code",
   "execution_count": 5,
   "metadata": {},
   "outputs": [
    {
     "name": "stdout",
     "output_type": "stream",
     "text": [
      "forward\n"
     ]
    }
   ],
   "source": [
    "print(input_df[0][0].split(\" \")[0])"
   ]
  },
  {
   "cell_type": "code",
   "execution_count": 9,
   "metadata": {},
   "outputs": [
    {
     "name": "stdout",
     "output_type": "stream",
     "text": [
      "horizontal: 1970\n",
      "Depth: 916\n",
      "Result: 1804520\n"
     ]
    }
   ],
   "source": [
    "# part 1\n",
    "horizontal = 0\n",
    "depth = 0\n",
    "for i in range(len(input_df)):\n",
    "    if input_df[0][i].split(\" \")[0] == \"forward\":\n",
    "        horizontal += int(input_df[0][i].split(\" \")[1])\n",
    "    elif input_df[0][i].split(\" \")[0] == \"down\":\n",
    "        depth += int(input_df[0][i].split(\" \")[1])\n",
    "    elif input_df[0][i].split(\" \")[0] == \"up\":\n",
    "        depth -= int(input_df[0][i].split(\" \")[1])\n",
    "\n",
    "# print(\"horizontal: \" + str(horizontal))\n",
    "# print(\"Depth: \" + str(depth))\n",
    "# print(\"Result: \" + str(horizontal* depth))"
   ]
  },
  {
   "cell_type": "code",
   "execution_count": 10,
   "metadata": {},
   "outputs": [
    {
     "name": "stdout",
     "output_type": "stream",
     "text": [
      "horizontal: 1970\n",
      "Depth: 1000556\n",
      "Aim: 916\n",
      "Result: 1971095320\n"
     ]
    }
   ],
   "source": [
    "# part 2\n",
    "horizontal = 0\n",
    "depth = 0\n",
    "aim = 0\n",
    "\n",
    "for i in range(len(input_df)):\n",
    "    #forward\n",
    "    if input_df[0][i].split(\" \")[0] == \"forward\":\n",
    "        horizontal += int(input_df[0][i].split(\" \")[1])\n",
    "        depth += (aim * int(input_df[0][i].split(\" \")[1]))\n",
    "\n",
    "    #down\n",
    "    elif input_df[0][i].split(\" \")[0] == \"down\":\n",
    "        aim += int(input_df[0][i].split(\" \")[1])\n",
    "\n",
    "    #up\n",
    "    elif input_df[0][i].split(\" \")[0] == \"up\":\n",
    "        aim -= int(input_df[0][i].split(\" \")[1])\n",
    "\n",
    "print(\"horizontal: \" + str(horizontal))\n",
    "print(\"Depth: \" + str(depth))\n",
    "print(\"Aim: \" + str(aim))\n",
    "print(\"Result: \" + str(horizontal* depth))"
   ]
  }
 ],
 "metadata": {
  "interpreter": {
   "hash": "7fcf69ff78ba1cd3b4bc57551789be758da3af52be5b7956ec1c82d7f2ca34e1"
  },
  "kernelspec": {
   "display_name": "Python 3.8.10 64-bit",
   "language": "python",
   "name": "python3"
  },
  "language_info": {
   "codemirror_mode": {
    "name": "ipython",
    "version": 3
   },
   "file_extension": ".py",
   "mimetype": "text/x-python",
   "name": "python",
   "nbconvert_exporter": "python",
   "pygments_lexer": "ipython3",
   "version": "3.8.10"
  },
  "orig_nbformat": 4
 },
 "nbformat": 4,
 "nbformat_minor": 2
}
