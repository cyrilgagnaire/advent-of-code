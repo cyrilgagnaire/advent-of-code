{
 "cells": [
  {
   "cell_type": "code",
   "execution_count": 3,
   "metadata": {},
   "outputs": [],
   "source": [
    "import pandas as pd"
   ]
  },
  {
   "cell_type": "code",
   "execution_count": 4,
   "metadata": {},
   "outputs": [],
   "source": [
    "input_df = pd.read_csv(\n",
    "    r'C:\\git\\github\\cyrilgagnaire\\2020adventOfCode\\2021\\Day 01\\Part 1\\input.txt', header=None)"
   ]
  },
  {
   "cell_type": "code",
   "execution_count": 6,
   "metadata": {},
   "outputs": [
    {
     "name": "stdout",
     "output_type": "stream",
     "text": [
      "1226\n"
     ]
    }
   ],
   "source": [
    "# part 1\n",
    "counter = 0\n",
    "for i in range(1,len(input_df)):\n",
    "    if input_df[0][i] > input_df[0][i-1]:\n",
    "        counter += 1\n",
    "\n",
    "print(counter)"
   ]
  },
  {
   "cell_type": "code",
   "execution_count": 8,
   "metadata": {},
   "outputs": [
    {
     "name": "stdout",
     "output_type": "stream",
     "text": [
      "1252\n"
     ]
    }
   ],
   "source": [
    "# part 2\n",
    "counter = 0\n",
    "for i in range(3,len(input_df)):\n",
    "    current = input_df[0][i] + input_df[0][i-1] + input_df[0][i-2]\n",
    "    previous = input_df[0][i-1] + input_df[0][i-2] + input_df[0][i-3]\n",
    "    if current > previous:\n",
    "        counter += 1\n",
    "\n",
    "print(counter)"
   ]
  }
 ],
 "metadata": {
  "interpreter": {
   "hash": "7fcf69ff78ba1cd3b4bc57551789be758da3af52be5b7956ec1c82d7f2ca34e1"
  },
  "kernelspec": {
   "display_name": "Python 3.8.10 64-bit",
   "language": "python",
   "name": "python3"
  },
  "language_info": {
   "codemirror_mode": {
    "name": "ipython",
    "version": 3
   },
   "file_extension": ".py",
   "mimetype": "text/x-python",
   "name": "python",
   "nbconvert_exporter": "python",
   "pygments_lexer": "ipython3",
   "version": "3.8.10"
  },
  "orig_nbformat": 4
 },
 "nbformat": 4,
 "nbformat_minor": 2
}
