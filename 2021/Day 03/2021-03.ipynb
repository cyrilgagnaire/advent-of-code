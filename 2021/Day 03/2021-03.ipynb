{
 "cells": [
  {
   "cell_type": "code",
   "execution_count": 1,
   "metadata": {},
   "outputs": [],
   "source": [
    "import pandas as pd"
   ]
  },
  {
   "cell_type": "code",
   "execution_count": 6,
   "metadata": {},
   "outputs": [],
   "source": [
    "input_df = pd.read_csv(\n",
    "    r'C:\\git\\github\\cyrilgagnaire\\2020adventOfCode\\2021\\Day 03\\input.txt', dtype=str, header=None)\n",
    "\n",
    "test_df = pd.read_csv(\n",
    "    r'C:\\git\\github\\cyrilgagnaire\\2020adventOfCode\\2021\\Day 03\\test.txt', dtype=str, header=None)"
   ]
  },
  {
   "cell_type": "code",
   "execution_count": 7,
   "metadata": {},
   "outputs": [
    {
     "name": "stdout",
     "output_type": "stream",
     "text": [
      "        0\n",
      "0   00100\n",
      "1   11110\n",
      "2   10110\n",
      "3   10111\n",
      "4   10101\n",
      "5   01111\n",
      "6   00111\n",
      "7   11100\n",
      "8   10000\n",
      "9   11001\n",
      "10  00010\n",
      "11  01010\n"
     ]
    }
   ],
   "source": [
    "print(test_df)"
   ]
  },
  {
   "cell_type": "code",
   "execution_count": 36,
   "metadata": {},
   "outputs": [],
   "source": [
    "def findMostCommonValue(df, columnIndex):\n",
    "    ones = 0\n",
    "    for i in range(len(df)):\n",
    "        if df[0][i][columnIndex] == str(1):\n",
    "            ones += 1\n",
    "\n",
    "    # Finding most common value\n",
    "    if ones >= len(df)/2:\n",
    "        result = 1\n",
    "    else:\n",
    "        result = 0\n",
    "    \n",
    "    return result"
   ]
  },
  {
   "cell_type": "code",
   "execution_count": 51,
   "metadata": {},
   "outputs": [],
   "source": [
    "def findLeastCommonValue(df, columnIndex):\n",
    "    ones = 0\n",
    "    for i in range(len(df)):\n",
    "        if df[0][i][columnIndex] == str(1):\n",
    "            ones += 1\n",
    "\n",
    "    # Finding most common value\n",
    "    if ones >= len(df)/2:\n",
    "        result = 0\n",
    "    else:\n",
    "        result = 1\n",
    "    \n",
    "    return result"
   ]
  },
  {
   "cell_type": "code",
   "execution_count": 56,
   "metadata": {},
   "outputs": [],
   "source": [
    "def findPowerConsumption(df):\n",
    "    gamma = \"\"\n",
    "    epsilon = \"\"\n",
    "\n",
    "    for i in range(len(input_df[0][0])):\n",
    "        gamma += str(findMostCommonValue(input_df, i))\n",
    "        epsilon += str(findLeastCommonValue(input_df, i))\n",
    "    print(\"Gamma: \" + str(int(gamma,2)))\n",
    "    print(\"Epsilon: \" + str(int(epsilon,2)))\n",
    "    print(\"Result: \" + str(int(gamma,2) * int(epsilon,2)))"
   ]
  },
  {
   "cell_type": "code",
   "execution_count": 58,
   "metadata": {},
   "outputs": [
    {
     "name": "stdout",
     "output_type": "stream",
     "text": [
      "Gamma: 2531\n",
      "Epsilon: 1564\n",
      "Result: 3958484\n"
     ]
    }
   ],
   "source": [
    "# Part I\n",
    "findPowerConsumption(input_df)"
   ]
  },
  {
   "cell_type": "code",
   "execution_count": null,
   "metadata": {},
   "outputs": [],
   "source": [
    "# Part II\n",
    "# Life Support Rating = Oxygen Genrator Rating (OGR) * CO2 Scrubber Rating (CSR)\n",
    "def findOxygenGeneratorRating(df):\n",
    "    # Cycle though each bit\n",
    "    for i in range(len(df)):\n",
    "        findMostCommonValue(df, i)"
   ]
  }
 ],
 "metadata": {
  "interpreter": {
   "hash": "7fcf69ff78ba1cd3b4bc57551789be758da3af52be5b7956ec1c82d7f2ca34e1"
  },
  "kernelspec": {
   "display_name": "Python 3.8.10 64-bit",
   "language": "python",
   "name": "python3"
  },
  "language_info": {
   "codemirror_mode": {
    "name": "ipython",
    "version": 3
   },
   "file_extension": ".py",
   "mimetype": "text/x-python",
   "name": "python",
   "nbconvert_exporter": "python",
   "pygments_lexer": "ipython3",
   "version": "3.8.10"
  },
  "orig_nbformat": 4
 },
 "nbformat": 4,
 "nbformat_minor": 2
}
